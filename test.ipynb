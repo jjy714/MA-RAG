{
 "cells": [
  {
   "cell_type": "code",
   "execution_count": 10,
   "id": "a9307fc9",
   "metadata": {},
   "outputs": [],
   "source": [
    "from agents import load_yaml_system_prompt"
   ]
  },
  {
   "cell_type": "code",
   "execution_count": 13,
   "id": "3b3cc6a2",
   "metadata": {},
   "outputs": [],
   "source": [
    "PROMPT_PATH = \"agents/Prompts/QuestionAnsweringAgent.yaml\""
   ]
  },
  {
   "cell_type": "code",
   "execution_count": 15,
   "id": "5373c327",
   "metadata": {},
   "outputs": [],
   "source": [
    "raw_prompt = load_yaml_system_prompt(PROMPT_PATH)"
   ]
  },
  {
   "cell_type": "code",
   "execution_count": 16,
   "id": "b1aa22d0",
   "metadata": {},
   "outputs": [
    {
     "data": {
      "text/plain": [
       "[{'role': 'system',\n",
       "  'content': 'You are an assistant for question-answering tasks. \\nUse the following process to deliver concise and precise answers based on the retrieved context. \\n1. Analyze Carefully: Begin by thoroughly analyzing both the question and the provided context. \\n2. Identify Core Details: Focus on identifying the essential names, terms, or details that directly answer the question. Disregard any irrelevant information. \\n3. Provide a Concise Answer:\\n    - Remove redundant words and extraneous details.\\n    - Present the answer by listing only the necessary names, terms, or very brief facts that are crucial for answering the question. \\n4. Clarity and Accuracy: Ensure that your answer is clear and maintains the original meaning of the information provided. \\n5. Consensus: If the contexts are not consensus, pick one which is the most logical, consensus, or confident.\\n'},\n",
       " {'role': 'user',\n",
       "  'content': 'Retrieved information: {context}\\nQuestion: {question}\\n'}]"
      ]
     },
     "execution_count": 16,
     "metadata": {},
     "output_type": "execute_result"
    }
   ],
   "source": [
    "raw_prompt['messages']"
   ]
  },
  {
   "cell_type": "code",
   "execution_count": null,
   "id": "0e0ce731",
   "metadata": {},
   "outputs": [],
   "source": [
    "from langchain_core.documents import Document\n",
    "\n",
    "document_1 = Document(id=\"1\", page_content=\"foo\", metadata={\"baz\": \"bar\"})\n",
    "document_2 = Document(id=\"2\", page_content=\"thud\", metadata={\"bar\": \"baz\"})\n",
    "document_3 = Document(id=\"3\", page_content=\"i will be deleted :(\")\n",
    "\n",
    "documents = [document_1, document_2, document_3]\n",
    "vector_store.add_documents(documents=documents)"
   ]
  }
 ],
 "metadata": {
  "kernelspec": {
   "display_name": "ma-rag",
   "language": "python",
   "name": "python3"
  },
  "language_info": {
   "codemirror_mode": {
    "name": "ipython",
    "version": 3
   },
   "file_extension": ".py",
   "mimetype": "text/x-python",
   "name": "python",
   "nbconvert_exporter": "python",
   "pygments_lexer": "ipython3",
   "version": "3.13.5"
  }
 },
 "nbformat": 4,
 "nbformat_minor": 5
}
